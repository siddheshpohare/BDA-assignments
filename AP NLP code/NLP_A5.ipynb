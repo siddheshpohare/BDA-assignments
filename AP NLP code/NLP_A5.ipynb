{
  "nbformat": 4,
  "nbformat_minor": 0,
  "metadata": {
    "colab": {
      "provenance": []
    },
    "kernelspec": {
      "name": "python3",
      "display_name": "Python 3"
    },
    "language_info": {
      "name": "python"
    }
  },
  "cells": [
    {
      "cell_type": "code",
      "execution_count": 1,
      "metadata": {
        "colab": {
          "base_uri": "https://localhost:8080/"
        },
        "id": "l0OH1asP5Co4",
        "outputId": "b1f219a3-5988-4103-a7b7-5aa1d9fadd88"
      },
      "outputs": [
        {
          "output_type": "stream",
          "name": "stderr",
          "text": [
            "[nltk_data] Downloading package punkt_tab to /root/nltk_data...\n",
            "[nltk_data]   Unzipping tokenizers/punkt_tab.zip.\n",
            "[nltk_data] Downloading package stopwords to /root/nltk_data...\n",
            "[nltk_data]   Unzipping corpora/stopwords.zip.\n"
          ]
        },
        {
          "output_type": "stream",
          "name": "stdout",
          "text": [
            "Sentiment: Positive\n",
            "Emotion(s): happy\n"
          ]
        }
      ],
      "source": [
        "import nltk\n",
        "from textblob import TextBlob\n",
        "from nltk.corpus import stopwords\n",
        "from nltk.tokenize import word_tokenize\n",
        "\n",
        "# Download necessary NLTK resources\n",
        "nltk.download('punkt_tab')\n",
        "nltk.download('stopwords')\n",
        "\n",
        "# Define a simple function to detect the sentiment (positive or negative)\n",
        "def detect_sentiment(text):\n",
        "    blob = TextBlob(text)\n",
        "    polarity = blob.sentiment.polarity  # Polarity score ranges from -1 (negative) to 1 (positive)\n",
        "\n",
        "    if polarity > 0:\n",
        "        return \"Positive\"\n",
        "    elif polarity < 0:\n",
        "        return \"Negative\"\n",
        "    else:\n",
        "        return \"Neutral\"\n",
        "\n",
        "# Define emotions based on specific keywords (a simple approach)\n",
        "emotion_keywords = {\n",
        "    \"happy\": [\"happy\", \"joy\", \"excited\", \"pleased\", \"cheerful\"],\n",
        "    \"sad\": [\"sad\", \"unhappy\", \"depressed\", \"down\", \"blue\"],\n",
        "    \"anger\": [\"angry\", \"furious\", \"rage\", \"annoyed\", \"irritated\"],\n",
        "    \"fear\": [\"afraid\", \"scared\", \"fear\", \"worried\", \"terrified\"],\n",
        "    \"surprise\": [\"surprised\", \"shocked\", \"amazed\", \"astonished\", \"stunned\"],\n",
        "}\n",
        "\n",
        "def detect_emotion(text):\n",
        "    words = word_tokenize(text.lower())  # Tokenize and convert text to lowercase\n",
        "    emotions_found = []\n",
        "\n",
        "    for emotion, keywords in emotion_keywords.items():\n",
        "        if any(word in words for word in keywords):\n",
        "            emotions_found.append(emotion)\n",
        "\n",
        "    if emotions_found:\n",
        "        return \", \".join(emotions_found)\n",
        "    else:\n",
        "        return \"Neutral\"\n",
        "\n",
        "# Test the functions\n",
        "text = \"I am so happy today! Everything went as planned, and I am excited.\"\n",
        "\n",
        "sentiment = detect_sentiment(text)\n",
        "emotion = detect_emotion(text)\n",
        "\n",
        "print(f\"Sentiment: {sentiment}\")\n",
        "print(f\"Emotion(s): {emotion}\")\n"
      ]
    },
    {
      "cell_type": "markdown",
      "source": [
        "🧠 Breakdown of the Code:\n",
        "\n",
        "    Sentiment Analysis (using TextBlob):\n",
        "\n",
        "        TextBlob(text): This object is used to analyze the sentiment of the given text.\n",
        "\n",
        "        blob.sentiment.polarity: This gives a score between -1 and 1:\n",
        "\n",
        "            -1 is very negative,\n",
        "\n",
        "            0 is neutral,\n",
        "\n",
        "            1 is very positive.\n",
        "\n",
        "        Based on this score, we classify the sentiment as positive, negative, or neutral.\n",
        "\n",
        "    Emotion Detection (using Keyword Matching):\n",
        "\n",
        "        We use hardcoded keywords for different emotions (happy, sad, anger, fear, surprise).\n",
        "\n",
        "        The word_tokenize function is used to split the input text into individual words.\n",
        "\n",
        "        The text is then compared against predefined emotion keywords. If any word in the text matches a keyword for a specific emotion, that emotion is identified.\n",
        "\n",
        "    Testing:\n",
        "\n",
        "        The text is an example sentence: \"I am so happy today! Everything went as planned, and I am excited.\"\n",
        "\n",
        "        The program detects the sentiment and identifies the emotions expressed in the text.\n",
        "\n",
        "🧠 Example Output:\n",
        "\n",
        "Sentiment: Positive\n",
        "Emotion(s): happy\n",
        "\n",
        "    The sentiment is classified as positive because the polarity score is greater than 0.\n",
        "\n",
        "    The emotion detected is happy because the words \"happy\" and \"excited\" are present in the text.\n",
        "\n",
        "🧑‍🏫 How This Works:\n",
        "\n",
        "    Sentiment Analysis is based on the polarity score provided by TextBlob. A positive score indicates a positive sentiment, a negative score indicates a negative sentiment, and 0 indicates a neutral sentiment.\n",
        "\n",
        "    Emotion Detection uses a keyword-based approach:\n",
        "\n",
        "        We check if words in the text match a predefined list of keywords associated with specific emotions.\n",
        "\n",
        "        If a match is found, the corresponding emotion is returned. You can easily expand this by adding more keywords or using a more sophisticated emotion detection model.\n",
        "\n",
        "💡 How to Improve Emotion Detection:\n",
        "\n",
        "    Use more advanced techniques such as:\n",
        "\n",
        "        Machine Learning Models: Training a classifier to detect emotions based on labeled datasets.\n",
        "\n",
        "        Deep Learning: Use pre-trained models like BERT or GPT that can understand the nuances of emotions.\n",
        "\n",
        "🎓 Tip for Viva:\n",
        "\n",
        "If asked about emotion detection, you can say:\n",
        "\n",
        "    \"Emotion detection is often done through either keyword matching or machine learning models. In this approach, keywords associated with emotions are used to detect the emotional tone in text.\""
      ],
      "metadata": {
        "id": "8NcwNAXx5RxG"
      }
    }
  ]
}