{
  "nbformat": 4,
  "nbformat_minor": 0,
  "metadata": {
    "colab": {
      "provenance": []
    },
    "kernelspec": {
      "name": "python3",
      "display_name": "Python 3"
    },
    "language_info": {
      "name": "python"
    }
  },
  "cells": [
    {
      "cell_type": "code",
      "execution_count": 3,
      "metadata": {
        "colab": {
          "base_uri": "https://localhost:8080/"
        },
        "id": "sBhIlGpa1423",
        "outputId": "d0ed0a8f-1ae8-430c-f513-3489f1c914da"
      },
      "outputs": [
        {
          "output_type": "stream",
          "name": "stderr",
          "text": [
            "[nltk_data] Downloading package punkt to /root/nltk_data...\n",
            "[nltk_data]   Package punkt is already up-to-date!\n",
            "[nltk_data] Downloading package punkt_tab to /root/nltk_data...\n",
            "[nltk_data]   Unzipping tokenizers/punkt_tab.zip.\n"
          ]
        },
        {
          "output_type": "stream",
          "name": "stdout",
          "text": [
            "Original Words:  ['Die', 'Kinder', 'spielen', 'im', 'Garten', 'und', 'liefen', 'schnell', 'zur', 'Schule', '.']\n",
            "Stemmed Words:   ['die', 'kind', 'spiel', 'im', 'gart', 'und', 'lief', 'schnell', 'zur', 'schul', '.']\n"
          ]
        }
      ],
      "source": [
        "import nltk\n",
        "from nltk.stem.snowball import SnowballStemmer\n",
        "\n",
        "# Download NLTK data (if not already done)\n",
        "nltk.download('punkt')\n",
        "# Download the 'punkt_tab' resource for German tokenization\n",
        "nltk.download('punkt_tab') # This line was added to fix the LookupError\n",
        "\n",
        "\n",
        "# Initialize the German stemmer\n",
        "stemmer = SnowballStemmer(\"german\")\n",
        "\n",
        "# Sample German sentence\n",
        "german_text = \"Die Kinder spielen im Garten und liefen schnell zur Schule.\"\n",
        "\n",
        "# Tokenize the sentence into words\n",
        "from nltk.tokenize import word_tokenize\n",
        "tokens = word_tokenize(german_text, language='german')\n",
        "\n",
        "# Perform stemming\n",
        "stemmed_words = [stemmer.stem(word) for word in tokens]\n",
        "\n",
        "# Show results\n",
        "print(\"Original Words: \", tokens)\n",
        "print(\"Stemmed Words:  \", stemmed_words)"
      ]
    },
    {
      "cell_type": "markdown",
      "source": [
        "✅ Final Code with Explanation\n",
        "\n",
        "import nltk\n",
        "from nltk.stem.snowball import SnowballStemmer\n",
        "\n",
        "    Imports NLTK for natural language processing tasks.\n",
        "\n",
        "    Imports the German stemmer from NLTK's SnowballStemmer class.\n",
        "\n",
        "# Download NLTK data (if not already done)\n",
        "nltk.download('punkt')\n",
        "\n",
        "    Downloads the Punkt tokenizer models used for tokenizing text into sentences and words.\n",
        "\n",
        "# Download the 'punkt_tab' resource for German tokenization\n",
        "nltk.download('punkt_tab')  # This line was added to fix the LookupError\n",
        "\n",
        "    ✅ This is the fix: Downloads a special file (punkt_tab) needed when using language='german' with word_tokenize.\n",
        "\n",
        "    It contains language-specific tokenization data for German.\n",
        "\n",
        "# Initialize the German stemmer\n",
        "stemmer = SnowballStemmer(\"german\")\n",
        "\n",
        "    Creates a German language stemmer object to reduce words to their root forms.\n",
        "\n",
        "# Sample German sentence\n",
        "german_text = \"Die Kinder spielen im Garten und liefen schnell zur Schule.\"\n",
        "\n",
        "    A sample German sentence for testing.\n",
        "\n",
        "# Tokenize the sentence into words\n",
        "from nltk.tokenize import word_tokenize\n",
        "tokens = word_tokenize(german_text, language='german')\n",
        "\n",
        "    Tokenizes the German sentence into individual word tokens using NLTK.\n",
        "\n",
        "    language='german' ensures proper handling of German punctuation and word structures.\n",
        "\n",
        "# Perform stemming\n",
        "stemmed_words = [stemmer.stem(word) for word in tokens]\n",
        "\n",
        "    Applies stemming to each word to reduce it to its base or root form.\n",
        "\n",
        "# Show results\n",
        "print(\"Original Words: \", tokens)\n",
        "print(\"Stemmed Words:  \", stemmed_words)\n",
        "\n",
        "    Displays the original words and their corresponding stemmed forms for comparison.\n",
        "\n",
        "📌 Example Output (What you might see):\n",
        "\n",
        "Original Words:  ['Die', 'Kinder', 'spielen', 'im', 'Garten', 'und', 'liefen', 'schnell', 'zur', 'Schule', '.']\n",
        "Stemmed Words:   ['die', 'kind', 'spiel', 'im', 'gart', 'und', 'lief', 'schnell', 'zur', 'schul', '.']\n",
        "\n",
        "🎓 Tip for Viva:\n",
        "\n",
        "If they ask why stemming is important:\n",
        "\n",
        "    \"Stemming helps normalize words by reducing them to their root form. This improves text matching and reduces dimensionality in NLP tasks like search engines, sentiment analysis, or classification.\""
      ],
      "metadata": {
        "id": "UPudSTSN2mr2"
      }
    }
  ]
}