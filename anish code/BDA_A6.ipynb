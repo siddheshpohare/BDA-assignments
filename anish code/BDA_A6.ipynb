{
  "nbformat": 4,
  "nbformat_minor": 0,
  "metadata": {
    "colab": {
      "provenance": []
    },
    "kernelspec": {
      "name": "python3",
      "display_name": "Python 3"
    },
    "language_info": {
      "name": "python"
    }
  },
  "cells": [
    {
      "cell_type": "code",
      "execution_count": 12,
      "metadata": {
        "colab": {
          "base_uri": "https://localhost:8080/",
          "height": 671
        },
        "id": "FBfBH3cquD9E",
        "outputId": "7bf78793-395b-4097-aee9-bab14fa8bd31"
      },
      "outputs": [
        {
          "output_type": "display_data",
          "data": {
            "text/plain": [
              "<IPython.core.display.Javascript object>"
            ],
            "application/javascript": [
              "(async (port, path, width, height, cache, element) => {\n",
              "    if (!google.colab.kernel.accessAllowed && !cache) {\n",
              "      return;\n",
              "    }\n",
              "    element.appendChild(document.createTextNode(''));\n",
              "    const url = await google.colab.kernel.proxyPort(port, {cache});\n",
              "    const iframe = document.createElement('iframe');\n",
              "    iframe.src = new URL(path, url).toString();\n",
              "    iframe.height = height;\n",
              "    iframe.width = width;\n",
              "    iframe.style.border = 0;\n",
              "    iframe.allow = [\n",
              "        'accelerometer',\n",
              "        'autoplay',\n",
              "        'camera',\n",
              "        'clipboard-read',\n",
              "        'clipboard-write',\n",
              "        'gyroscope',\n",
              "        'magnetometer',\n",
              "        'microphone',\n",
              "        'serial',\n",
              "        'usb',\n",
              "        'xr-spatial-tracking',\n",
              "    ].join('; ');\n",
              "    element.appendChild(iframe);\n",
              "  })(8050, \"/\", \"100%\", 650, false, window.element)"
            ]
          },
          "metadata": {}
        }
      ],
      "source": [
        "import pandas as pd\n",
        "import networkx as nx\n",
        "from dash import Dash, dcc, html, dash_table\n",
        "import plotly.express as px\n",
        "from reportlab.lib.pagesizes import letter\n",
        "from reportlab.pdfgen import canvas\n",
        "\n",
        "# Load and preprocess data\n",
        "df = pd.read_csv('data-analytics A6.csv')\n",
        "df['Amount'] = df['Quantity'] * df['Price']\n",
        "df = df.dropna(subset=['Customer ID'])\n",
        "df['Customer ID'] = df['Customer ID'].astype(int).astype(str)\n",
        "df['StockCode'] = df['StockCode'].astype(str)\n",
        "\n",
        "# Create graph: Customer ID -> StockCode (product)\n",
        "G = nx.from_pandas_edgelist(df, source='Customer ID', target='StockCode', edge_attr='Amount', create_using=nx.DiGraph())\n",
        "\n",
        "# Graph Analytics\n",
        "centrality = nx.degree_centrality(G)\n",
        "pagerank = nx.pagerank(G)\n",
        "\n",
        "# Map metrics back to dataframe (only Customer ID)\n",
        "df['degree_centrality'] = df['Customer ID'].map(centrality)\n",
        "df['pagerank'] = df['Customer ID'].map(pagerank)\n",
        "\n",
        "# Grouped data for visualization\n",
        "df_grouped = df.groupby('Customer ID').agg({'Amount': 'sum'}).reset_index()\n",
        "\n",
        "# Dash app\n",
        "app = Dash(__name__)\n",
        "fig = px.bar(df_grouped, x='Customer ID', y='Amount', title='Total Transaction Amount per Customer')\n",
        "\n",
        "app.layout = html.Div([\n",
        "    html.H1(\"Transactional Data Report\"),\n",
        "    dcc.Graph(figure=fig),\n",
        "    dash_table.DataTable(\n",
        "        data=df.to_dict('records'),\n",
        "        page_size=10,\n",
        "        filter_action=\"native\",\n",
        "        sort_action=\"native\",\n",
        "        style_table={'overflowX': 'auto'}\n",
        "    )\n",
        "])\n",
        "\n",
        "if __name__ == '__main__':\n",
        "    app.run(debug=True)\n",
        "\n",
        "# Export to files\n",
        "df.to_excel(\"report.xlsx\", engine='xlsxwriter', index=False)\n",
        "df.to_csv(\"report.csv\", index=False)\n",
        "# Assuming 'Unnamed: 0' is the problematic column:\n",
        "df_for_xml = df.drop(columns=['Unnamed: 0'])  # Remove the column before exporting\n",
        "# Replace spaces in column names with underscores for XML compatibility\n",
        "df_for_xml.columns = [c.replace(' ', '_') for c in df_for_xml.columns]\n",
        "df_for_xml.to_xml(\"report.xml\", index=False) # Export the modified dataframe\n",
        "\n"
      ]
    },
    {
      "cell_type": "code",
      "source": [
        "!pip install dash"
      ],
      "metadata": {
        "colab": {
          "base_uri": "https://localhost:8080/"
        },
        "collapsed": true,
        "id": "JlHZUD5DuOzm",
        "outputId": "f31a115b-142b-4589-b07d-afe5fab5fc49"
      },
      "execution_count": 2,
      "outputs": [
        {
          "output_type": "stream",
          "name": "stdout",
          "text": [
            "Collecting dash\n",
            "  Downloading dash-3.0.3-py3-none-any.whl.metadata (10 kB)\n",
            "Collecting Flask<3.1,>=1.0.4 (from dash)\n",
            "  Downloading flask-3.0.3-py3-none-any.whl.metadata (3.2 kB)\n",
            "Collecting Werkzeug<3.1 (from dash)\n",
            "  Downloading werkzeug-3.0.6-py3-none-any.whl.metadata (3.7 kB)\n",
            "Requirement already satisfied: plotly>=5.0.0 in /usr/local/lib/python3.11/dist-packages (from dash) (5.24.1)\n",
            "Requirement already satisfied: importlib-metadata in /usr/local/lib/python3.11/dist-packages (from dash) (8.6.1)\n",
            "Requirement already satisfied: typing-extensions>=4.1.1 in /usr/local/lib/python3.11/dist-packages (from dash) (4.13.2)\n",
            "Requirement already satisfied: requests in /usr/local/lib/python3.11/dist-packages (from dash) (2.32.3)\n",
            "Collecting retrying (from dash)\n",
            "  Downloading retrying-1.3.4-py3-none-any.whl.metadata (6.9 kB)\n",
            "Requirement already satisfied: nest-asyncio in /usr/local/lib/python3.11/dist-packages (from dash) (1.6.0)\n",
            "Requirement already satisfied: setuptools in /usr/local/lib/python3.11/dist-packages (from dash) (75.2.0)\n",
            "Requirement already satisfied: Jinja2>=3.1.2 in /usr/local/lib/python3.11/dist-packages (from Flask<3.1,>=1.0.4->dash) (3.1.6)\n",
            "Requirement already satisfied: itsdangerous>=2.1.2 in /usr/local/lib/python3.11/dist-packages (from Flask<3.1,>=1.0.4->dash) (2.2.0)\n",
            "Requirement already satisfied: click>=8.1.3 in /usr/local/lib/python3.11/dist-packages (from Flask<3.1,>=1.0.4->dash) (8.1.8)\n",
            "Requirement already satisfied: blinker>=1.6.2 in /usr/local/lib/python3.11/dist-packages (from Flask<3.1,>=1.0.4->dash) (1.9.0)\n",
            "Requirement already satisfied: tenacity>=6.2.0 in /usr/local/lib/python3.11/dist-packages (from plotly>=5.0.0->dash) (9.1.2)\n",
            "Requirement already satisfied: packaging in /usr/local/lib/python3.11/dist-packages (from plotly>=5.0.0->dash) (24.2)\n",
            "Requirement already satisfied: MarkupSafe>=2.1.1 in /usr/local/lib/python3.11/dist-packages (from Werkzeug<3.1->dash) (3.0.2)\n",
            "Requirement already satisfied: zipp>=3.20 in /usr/local/lib/python3.11/dist-packages (from importlib-metadata->dash) (3.21.0)\n",
            "Requirement already satisfied: charset-normalizer<4,>=2 in /usr/local/lib/python3.11/dist-packages (from requests->dash) (3.4.1)\n",
            "Requirement already satisfied: idna<4,>=2.5 in /usr/local/lib/python3.11/dist-packages (from requests->dash) (3.10)\n",
            "Requirement already satisfied: urllib3<3,>=1.21.1 in /usr/local/lib/python3.11/dist-packages (from requests->dash) (2.3.0)\n",
            "Requirement already satisfied: certifi>=2017.4.17 in /usr/local/lib/python3.11/dist-packages (from requests->dash) (2025.1.31)\n",
            "Requirement already satisfied: six>=1.7.0 in /usr/local/lib/python3.11/dist-packages (from retrying->dash) (1.17.0)\n",
            "Downloading dash-3.0.3-py3-none-any.whl (8.0 MB)\n",
            "\u001b[2K   \u001b[90m━━━━━━━━━━━━━━━━━━━━━━━━━━━━━━━━━━━━━━━━\u001b[0m \u001b[32m8.0/8.0 MB\u001b[0m \u001b[31m42.1 MB/s\u001b[0m eta \u001b[36m0:00:00\u001b[0m\n",
            "\u001b[?25hDownloading flask-3.0.3-py3-none-any.whl (101 kB)\n",
            "\u001b[2K   \u001b[90m━━━━━━━━━━━━━━━━━━━━━━━━━━━━━━━━━━━━━━━━\u001b[0m \u001b[32m101.7/101.7 kB\u001b[0m \u001b[31m6.1 MB/s\u001b[0m eta \u001b[36m0:00:00\u001b[0m\n",
            "\u001b[?25hDownloading werkzeug-3.0.6-py3-none-any.whl (227 kB)\n",
            "\u001b[2K   \u001b[90m━━━━━━━━━━━━━━━━━━━━━━━━━━━━━━━━━━━━━━━━\u001b[0m \u001b[32m228.0/228.0 kB\u001b[0m \u001b[31m9.5 MB/s\u001b[0m eta \u001b[36m0:00:00\u001b[0m\n",
            "\u001b[?25hDownloading retrying-1.3.4-py3-none-any.whl (11 kB)\n",
            "Installing collected packages: Werkzeug, retrying, Flask, dash\n",
            "  Attempting uninstall: Werkzeug\n",
            "    Found existing installation: Werkzeug 3.1.3\n",
            "    Uninstalling Werkzeug-3.1.3:\n",
            "      Successfully uninstalled Werkzeug-3.1.3\n",
            "  Attempting uninstall: Flask\n",
            "    Found existing installation: Flask 3.1.0\n",
            "    Uninstalling Flask-3.1.0:\n",
            "      Successfully uninstalled Flask-3.1.0\n",
            "Successfully installed Flask-3.0.3 Werkzeug-3.0.6 dash-3.0.3 retrying-1.3.4\n"
          ]
        }
      ]
    },
    {
      "cell_type": "code",
      "source": [
        "!pip install reportlab"
      ],
      "metadata": {
        "colab": {
          "base_uri": "https://localhost:8080/"
        },
        "id": "wUexv5JauV0X",
        "outputId": "4c58dad5-813d-4584-898e-5f7f4174279c"
      },
      "execution_count": 4,
      "outputs": [
        {
          "output_type": "stream",
          "name": "stdout",
          "text": [
            "Collecting reportlab\n",
            "  Downloading reportlab-4.4.0-py3-none-any.whl.metadata (1.8 kB)\n",
            "Requirement already satisfied: pillow>=9.0.0 in /usr/local/lib/python3.11/dist-packages (from reportlab) (11.1.0)\n",
            "Requirement already satisfied: chardet in /usr/local/lib/python3.11/dist-packages (from reportlab) (5.2.0)\n",
            "Downloading reportlab-4.4.0-py3-none-any.whl (2.0 MB)\n",
            "\u001b[2K   \u001b[90m━━━━━━━━━━━━━━━━━━━━━━━━━━━━━━━━━━━━━━━━\u001b[0m \u001b[32m2.0/2.0 MB\u001b[0m \u001b[31m16.5 MB/s\u001b[0m eta \u001b[36m0:00:00\u001b[0m\n",
            "\u001b[?25hInstalling collected packages: reportlab\n",
            "Successfully installed reportlab-4.4.0\n"
          ]
        }
      ]
    },
    {
      "cell_type": "code",
      "source": [
        "!pip install xlsxwriter"
      ],
      "metadata": {
        "colab": {
          "base_uri": "https://localhost:8080/"
        },
        "id": "xGDQlTWZue8W",
        "outputId": "49565b0e-a2f6-40d0-99b2-b1b6a475798e"
      },
      "execution_count": 6,
      "outputs": [
        {
          "output_type": "stream",
          "name": "stdout",
          "text": [
            "Collecting xlsxwriter\n",
            "  Downloading XlsxWriter-3.2.3-py3-none-any.whl.metadata (2.7 kB)\n",
            "Downloading XlsxWriter-3.2.3-py3-none-any.whl (169 kB)\n",
            "\u001b[?25l   \u001b[90m━━━━━━━━━━━━━━━━━━━━━━━━━━━━━━━━━━━━━━━━\u001b[0m \u001b[32m0.0/169.4 kB\u001b[0m \u001b[31m?\u001b[0m eta \u001b[36m-:--:--\u001b[0m\r\u001b[2K   \u001b[91m━━━━━━━━━━━━━━━━━━━━━━━━━━━━━━━━━━━━━━\u001b[0m\u001b[91m╸\u001b[0m\u001b[90m━\u001b[0m \u001b[32m163.8/169.4 kB\u001b[0m \u001b[31m4.7 MB/s\u001b[0m eta \u001b[36m0:00:01\u001b[0m\r\u001b[2K   \u001b[90m━━━━━━━━━━━━━━━━━━━━━━━━━━━━━━━━━━━━━━━━\u001b[0m \u001b[32m169.4/169.4 kB\u001b[0m \u001b[31m3.2 MB/s\u001b[0m eta \u001b[36m0:00:00\u001b[0m\n",
            "\u001b[?25hInstalling collected packages: xlsxwriter\n",
            "Successfully installed xlsxwriter-3.2.3\n"
          ]
        }
      ]
    },
    {
      "cell_type": "markdown",
      "source": [
        "1. Importing Libraries\n",
        "\n",
        "import pandas as pd\n",
        "import networkx as nx\n",
        "from dash import Dash, dcc, html, dash_table\n",
        "import plotly.express as px\n",
        "from reportlab.lib.pagesizes import letter\n",
        "from reportlab.pdfgen import canvas\n",
        "\n",
        "    pandas: For data manipulation.\n",
        "\n",
        "    networkx: For creating and analyzing the transaction graph.\n",
        "\n",
        "    Dash, dcc, html, dash_table: For building the interactive web dashboard.\n",
        "\n",
        "    plotly.express: For creating the bar chart.\n",
        "\n",
        "    reportlab: For generating a basic PDF report.\n",
        "\n",
        "✅ 2. Load and Preprocess the Dataset\n",
        "\n",
        "df = pd.read_csv('data-analytics A6.csv')\n",
        "df['Amount'] = df['Quantity'] * df['Price']\n",
        "df = df.dropna(subset=['Customer ID'])\n",
        "df['Customer ID'] = df['Customer ID'].astype(int).astype(str)\n",
        "df['StockCode'] = df['StockCode'].astype(str)\n",
        "\n",
        "    Reading the CSV file into a DataFrame.\n",
        "\n",
        "    Amount column is calculated as Quantity * Price to represent the total transaction value.\n",
        "\n",
        "    Missing Customer IDs are dropped to ensure graph clarity.\n",
        "\n",
        "    Data types are converted for consistency (especially for graph creation).\n",
        "\n",
        "✅ 3. Create a Transaction Graph\n",
        "\n",
        "G = nx.from_pandas_edgelist(\n",
        "    df, source='Customer ID', target='StockCode', edge_attr='Amount', create_using=nx.DiGraph()\n",
        ")\n",
        "\n",
        "    Builds a directed graph where:\n",
        "\n",
        "        Nodes are Customer ID (source) and StockCode (target).\n",
        "\n",
        "        Edge attribute is the Amount.\n",
        "\n",
        "        The graph helps in visualizing interactions between customers and products.\n",
        "\n",
        "✅ 4. Graph Analytics\n",
        "\n",
        "centrality = nx.degree_centrality(G)\n",
        "pagerank = nx.pagerank(G)\n",
        "\n",
        "    Degree Centrality: Measures how many direct connections a customer or product has.\n",
        "\n",
        "    PageRank: Identifies the most \"influential\" nodes in the graph, using a recursive scoring system.\n",
        "\n",
        "✅ 5. Map Graph Metrics to the DataFrame\n",
        "\n",
        "df['degree_centrality'] = df['Customer ID'].map(centrality)\n",
        "df['pagerank'] = df['Customer ID'].map(pagerank)\n",
        "\n",
        "    Maps graph-based metrics back to the DataFrame so they can be visualized or exported.\n",
        "\n",
        "✅ 6. Aggregate Data for Visualization\n",
        "\n",
        "df_grouped = df.groupby('Customer ID').agg({'Amount': 'sum'}).reset_index()\n",
        "\n",
        "    Groups data by Customer ID to calculate total spending per customer.\n",
        "\n",
        "✅ 7. Build Dash Web App\n",
        "\n",
        "app = Dash(__name__)\n",
        "fig = px.bar(df_grouped, x='Customer ID', y='Amount', title='Total Transaction Amount per Customer')\n",
        "\n",
        "    Initializes the Dash app and creates a bar chart showing total transactions per customer.\n",
        "\n",
        "app.layout = html.Div([\n",
        "    html.H1(\"Transactional Data Report\"),\n",
        "    dcc.Graph(figure=fig),\n",
        "    dash_table.DataTable(\n",
        "        data=df.to_dict('records'),\n",
        "        page_size=10,\n",
        "        filter_action=\"native\",\n",
        "        sort_action=\"native\",\n",
        "        style_table={'overflowX': 'auto'}\n",
        "    )\n",
        "])\n",
        "\n",
        "    Creates a layout that includes:\n",
        "\n",
        "        A title\n",
        "\n",
        "        The bar chart\n",
        "\n",
        "        A data table with filtering and sorting\n",
        "\n",
        "✅ 8. Run the App\n",
        "\n",
        "if __name__ == '__main__':\n",
        "    app.run(debug=True)\n",
        "\n",
        "    Runs the Dash web application locally in debug mode.\n",
        "\n",
        "✅ 9. Export Data to Multiple Formats\n",
        "Excel\n",
        "\n",
        "df.to_excel(\"report.xlsx\", engine='xlsxwriter', index=False)\n",
        "\n",
        "CSV\n",
        "\n",
        "df.to_csv(\"report.csv\", index=False)\n",
        "\n",
        "XML (after cleaning column names)\n",
        "\n",
        "df_for_xml = df.drop(columns=['Unnamed: 0'])\n",
        "df_for_xml.columns = [c.replace(' ', '_') for c in df_for_xml.columns]\n",
        "df_for_xml.to_xml(\"report.xml\", index=False)\n",
        "\n",
        "    XML requires column names without spaces and clean structure, so minor preprocessing is done.\n"
      ],
      "metadata": {
        "id": "vm1F9jVov8xu"
      }
    }
  ]
}