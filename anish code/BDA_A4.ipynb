{
  "nbformat": 4,
  "nbformat_minor": 0,
  "metadata": {
    "colab": {
      "provenance": []
    },
    "kernelspec": {
      "name": "python3",
      "display_name": "Python 3"
    },
    "language_info": {
      "name": "python"
    }
  },
  "cells": [
    {
      "cell_type": "code",
      "execution_count": 1,
      "metadata": {
        "colab": {
          "base_uri": "https://localhost:8080/"
        },
        "id": "dBAcm9rrSElC",
        "outputId": "b2f5e58c-e1a4-46a0-d44d-5d5c66f3e416"
      },
      "outputs": [
        {
          "output_type": "stream",
          "name": "stdout",
          "text": [
            "+---------------------------------------------------------------------------------------+-----+----------+-----------------------------+\n",
            "|tweet                                                                                  |label|prediction|probability                  |\n",
            "+---------------------------------------------------------------------------------------+-----+----------+-----------------------------+\n",
            "|  bihday your majesty                                                                  |0    |0.0       |[1.0,0.0]                    |\n",
            "| @user camping tomorrow @user @user @user @user @user @user @user dannyâ¦             |0    |0.0       |[1.0,0.0]                    |\n",
            "|we won!!! love the land!!! #allin #cavs #champions #cleveland #clevelandcavaliers  â¦ |0    |0.0       |[1.0,0.0]                    |\n",
            "|@user #cnn calls #michigan middle school 'build the wall' chant '' #tcot               |1    |1.0       |[4.5455657176155325E-171,1.0]|\n",
            "|as we all know, essential oils are not made of chemicals.                              |0    |0.0       |[1.0,0.0]                    |\n",
            "+---------------------------------------------------------------------------------------+-----+----------+-----------------------------+\n",
            "only showing top 5 rows\n",
            "\n",
            "Model Accuracy (AUC): 0.88\n"
          ]
        }
      ],
      "source": [
        "from pyspark.sql import SparkSession\n",
        "from pyspark.ml.feature import Tokenizer, StopWordsRemover, CountVectorizer, IDF, StringIndexer\n",
        "from pyspark.ml.classification import LogisticRegression\n",
        "from pyspark.ml import Pipeline\n",
        "from pyspark.ml.evaluation import BinaryClassificationEvaluator\n",
        "\n",
        "# Step 1: Start Spark session\n",
        "spark = SparkSession.builder.appName(\"TwitterHateTweetDetection\").getOrCreate()\n",
        "\n",
        "# Step 2: Load dataset (CSV format)\n",
        "df = spark.read.csv(\"twitter.csv\", header=True, inferSchema=True)\n",
        "\n",
        "# Step 3: Rename and select necessary columns\n",
        "df = df.selectExpr(\"id\", \"cast(label as int) as label\", \"tweet\")\n",
        "\n",
        "# Step 4: Text preprocessing pipeline\n",
        "tokenizer = Tokenizer(inputCol=\"tweet\", outputCol=\"words\")\n",
        "remover = StopWordsRemover(inputCol=\"words\", outputCol=\"filtered\")\n",
        "vectorizer = CountVectorizer(inputCol=\"filtered\", outputCol=\"features\")\n",
        "\n",
        "# Step 5: Model - Logistic Regression\n",
        "lr = LogisticRegression(featuresCol=\"features\", labelCol=\"label\")\n",
        "\n",
        "# Step 6: Build Pipeline\n",
        "pipeline = Pipeline(stages=[tokenizer, remover, vectorizer, lr])\n",
        "\n",
        "# Step 7: Split into training/testing sets\n",
        "train_data, test_data = df.randomSplit([0.8, 0.2], seed=42)\n",
        "\n",
        "# Step 8: Train model\n",
        "model = pipeline.fit(train_data)\n",
        "\n",
        "# Step 9: Predict on test data\n",
        "predictions = model.transform(test_data)\n",
        "predictions.select(\"tweet\", \"label\", \"prediction\", \"probability\").show(5, truncate=False)\n",
        "\n",
        "# Step 10: Evaluation\n",
        "evaluator = BinaryClassificationEvaluator(labelCol=\"label\", rawPredictionCol=\"rawPrediction\")\n",
        "accuracy = evaluator.evaluate(predictions)\n",
        "print(f\"Model Accuracy (AUC): {accuracy:.2f}\")\n",
        "\n",
        "# Step 11: Stop Spark\n",
        "spark.stop()\n"
      ]
    },
    {
      "cell_type": "markdown",
      "source": [
        "Viva-Style Concepts\n",
        "Concept\tExplanation\n",
        "Tokenizer\tSplits tweets into individual words\n",
        "StopWordsRemover\tRemoves common words like \"is\", \"the\", \"and\"\n",
        "CountVectorizer / TF-IDF\tConverts text into numeric feature vectors\n",
        "Logistic Regression\tBinary classifier for hate vs. not hate\n",
        "BinaryClassificationEvaluator\tMeasures model performance (AUC or accuracy)"
      ],
      "metadata": {
        "id": "IkEjWvAiWu1r"
      }
    }
  ]
}