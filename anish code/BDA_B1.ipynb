{
  "nbformat": 4,
  "nbformat_minor": 0,
  "metadata": {
    "colab": {
      "provenance": []
    },
    "kernelspec": {
      "name": "python3",
      "display_name": "Python 3"
    },
    "language_info": {
      "name": "python"
    }
  },
  "cells": [
    {
      "cell_type": "code",
      "execution_count": 3,
      "metadata": {
        "colab": {
          "base_uri": "https://localhost:8080/"
        },
        "id": "0QIyw0N_Dbwj",
        "outputId": "d437bff3-e09f-4221-f8fe-5d06be990b1f"
      },
      "outputs": [
        {
          "output_type": "stream",
          "name": "stdout",
          "text": [
            "world: 2\n",
            "sample: 1\n",
            "text: 1\n",
            "file: 2\n",
            "from: 1\n",
            "other: 1\n",
            "side: 1\n",
            "used: 1\n",
            "for: 1\n",
            "word: 1\n",
            "fast: 1\n",
            "and: 1\n",
            "powerful: 1\n",
            "again: 1\n",
            "Hello: 3\n",
            "This: 2\n",
            "is: 3\n",
            "a: 1\n",
            "the: 1\n",
            "count: 1\n",
            "Spark: 1\n"
          ]
        }
      ],
      "source": [
        "from pyspark.sql import SparkSession\n",
        "# Initialize Spark Session\n",
        "spark = SparkSession.builder.appName(\"WordCount\").getOrCreate()\n",
        "# Read text file into RDD\n",
        "text_rdd = spark.sparkContext.textFile(\"input.txt\")\n",
        "# Split each line into words and count occurrences\n",
        "word_counts = (\n",
        "text_rdd.flatMap(lambda line: line.split(\" \"))\n",
        ".map(lambda word: (word, 1))\n",
        ".reduceByKey(lambda a, b: a + b)\n",
        ")\n",
        "# Save output to HDFS\n",
        "for word, count in word_counts.collect():\n",
        "    print(f\"{word}: {count}\")\n",
        "\n",
        "# Stop Spark session\n",
        "spark.stop()"
      ]
    }
  ]
}