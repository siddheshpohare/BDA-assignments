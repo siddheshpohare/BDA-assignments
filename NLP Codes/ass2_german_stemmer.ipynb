{
 "cells": [
  {
   "cell_type": "markdown",
   "id": "4657ee26-f1f4-4446-906d-3db69ffd324a",
   "metadata": {},
   "source": [
    "## German Word Stemmer "
   ]
  },
  {
   "cell_type": "markdown",
   "id": "1e96a9ed-e77b-400f-8ba7-c605e005e28a",
   "metadata": {},
   "source": [
    "### 1. Snowball (german words)"
   ]
  },
  {
   "cell_type": "code",
   "execution_count": 1,
   "id": "1ab1a60b-c4a4-484d-804f-d308042e8c8b",
   "metadata": {},
   "outputs": [],
   "source": [
    "from nltk.stem.snowball import GermanStemmer\n"
   ]
  },
  {
   "cell_type": "code",
   "execution_count": 2,
   "id": "40313d89-5218-4a80-b969-6e334f8b9bd7",
   "metadata": {},
   "outputs": [],
   "source": [
    "gs= GermanStemmer()"
   ]
  },
  {
   "cell_type": "code",
   "execution_count": 3,
   "id": "2d8c9461-2adc-4664-9abf-b387fa46f6fe",
   "metadata": {},
   "outputs": [],
   "source": [
    "token_words = ['besprechung', 'verarbeitung', 'unfreundlich', 'vorbereitung'] #1. meeting root-speak 2. processing root-work 3.unfriendly root-friend 4. preparation root-ready"
   ]
  },
  {
   "cell_type": "code",
   "execution_count": 4,
   "id": "8adca41a-c44b-42a3-bb70-ab40b93a1b6e",
   "metadata": {},
   "outputs": [],
   "source": [
    "stem_words= [gs.stem(words) for words in token_words]"
   ]
  },
  {
   "cell_type": "code",
   "execution_count": 5,
   "id": "7255dd4c-a5e1-4507-b181-25bea5e78088",
   "metadata": {},
   "outputs": [
    {
     "name": "stdout",
     "output_type": "stream",
     "text": [
      "the words after stemming:  ['besprech', 'verarbeit', 'unfreund', 'vorbereit']\n"
     ]
    }
   ],
   "source": [
    "print(\"the words after stemming: \", stem_words)"
   ]
  },
  {
   "cell_type": "markdown",
   "id": "8e32a8b2-3975-4cff-b213-467420aeab26",
   "metadata": {},
   "source": [
    "### 2.Porter (for english words)"
   ]
  },
  {
   "cell_type": "code",
   "execution_count": 6,
   "id": "d2064989-abf3-4301-8e30-dc1222154e36",
   "metadata": {},
   "outputs": [],
   "source": [
    "from nltk.stem import PorterStemmer"
   ]
  },
  {
   "cell_type": "code",
   "execution_count": 7,
   "id": "90a0f963-66aa-46bd-874c-c013149a87e2",
   "metadata": {},
   "outputs": [],
   "source": [
    "porter_stemmer = PorterStemmer()"
   ]
  },
  {
   "cell_type": "code",
   "execution_count": 8,
   "id": "4215a58e-ccb1-4734-9eae-7ca9ff1b7641",
   "metadata": {},
   "outputs": [],
   "source": [
    "words = [\"running\", \"jumps\", \"happily\", \"running\", \"happily\"]\n"
   ]
  },
  {
   "cell_type": "code",
   "execution_count": 9,
   "id": "6c97e467-c4a5-48f8-a757-c747d1fd6f17",
   "metadata": {},
   "outputs": [],
   "source": [
    "stemmed_words = [porter_stemmer.stem(word) for word in words]\n"
   ]
  },
  {
   "cell_type": "code",
   "execution_count": 10,
   "id": "75492c39-733c-4b59-8631-962f6705ec09",
   "metadata": {},
   "outputs": [
    {
     "name": "stdout",
     "output_type": "stream",
     "text": [
      "Original words: ['running', 'jumps', 'happily', 'running', 'happily']\n",
      "Stemmed words: ['run', 'jump', 'happili', 'run', 'happili']\n"
     ]
    }
   ],
   "source": [
    "# Print the results\n",
    "print(\"Original words:\", words)\n",
    "print(\"Stemmed words:\", stemmed_words)\n"
   ]
  },
  {
   "cell_type": "markdown",
   "id": "c4bf1f74-d983-46ab-948b-036082acb864",
   "metadata": {},
   "source": [
    "### 3.cistem(german)"
   ]
  },
  {
   "cell_type": "code",
   "execution_count": 12,
   "id": "0c97d7bd-2218-4af7-9473-e4fe74d680d9",
   "metadata": {},
   "outputs": [],
   "source": [
    "from nltk.stem.cistem import Cistem"
   ]
  },
  {
   "cell_type": "code",
   "execution_count": 13,
   "id": "06b92951-d13a-4edc-abd7-99c36cbbed62",
   "metadata": {},
   "outputs": [],
   "source": [
    "cs = Cistem()"
   ]
  },
  {
   "cell_type": "code",
   "execution_count": 17,
   "id": "21345751-0e1d-4132-bf54-438493c218dd",
   "metadata": {},
   "outputs": [],
   "source": [
    "test_words = [\n",
    "    'Katze',           # cats\n",
    "    'Bücher',         # books\n",
    "    'gesprochen',     # spoken\n",
    "    'Wissenschaft',   # science\n",
    "    'Freundschaft',   # friendship\n",
    "    'arbeiten',       # to work\n",
    "    'Häuser',         # houses\n",
    "    'größer',         # bigger\n",
    "    'Entwicklung',    # development\n",
    "    'verstehen'       # understand\n",
    "]"
   ]
  },
  {
   "cell_type": "code",
   "execution_count": 18,
   "id": "904d0187-00b2-4417-b769-82cbc6f625c2",
   "metadata": {},
   "outputs": [],
   "source": [
    "stem_words= [cs.stem(words) for words in test_words]"
   ]
  },
  {
   "cell_type": "code",
   "execution_count": 19,
   "id": "9e4ee0df-0086-4044-9813-a82d968fcfb7",
   "metadata": {},
   "outputs": [
    {
     "name": "stdout",
     "output_type": "stream",
     "text": [
      "Original words: ['Katze', 'Bücher', 'gesprochen', 'Wissenschaft', 'Freundschaft', 'arbeiten', 'Häuser', 'größer', 'Entwicklung', 'verstehen']\n",
      "Stemmed words: ['katz', 'buch', 'sproch', 'wissenschaft', 'freundschaft', 'arbei', 'hau', 'gross', 'entwicklung', 'versteh']\n"
     ]
    }
   ],
   "source": [
    "print(\"Original words:\", test_words)\n",
    "print(\"Stemmed words:\", stem_words)"
   ]
  },
  {
   "cell_type": "markdown",
   "id": "a8976b47-b5e9-42d3-a21c-f60b41273eef",
   "metadata": {},
   "source": [
    "### 4.landcaster (german words)"
   ]
  },
  {
   "cell_type": "code",
   "execution_count": 21,
   "id": "57902dab-e10d-40ea-b4b4-4f0ade6f38c7",
   "metadata": {},
   "outputs": [],
   "source": [
    "from nltk.stem.lancaster import LancasterStemmer"
   ]
  },
  {
   "cell_type": "code",
   "execution_count": 22,
   "id": "20b158d3-bf0f-4dc0-ac6f-b19f72d9b78a",
   "metadata": {},
   "outputs": [],
   "source": [
    "ls = LancasterStemmer()"
   ]
  },
  {
   "cell_type": "code",
   "execution_count": 25,
   "id": "b04679ff-a849-47ea-b640-a24f416f8c33",
   "metadata": {},
   "outputs": [],
   "source": [
    "stem_words_1= [ls.stem(words) for words in test_words]"
   ]
  },
  {
   "cell_type": "code",
   "execution_count": 26,
   "id": "69b0173b-5877-4d4e-9f04-5439e8e85263",
   "metadata": {},
   "outputs": [
    {
     "name": "stdout",
     "output_type": "stream",
     "text": [
      "Original words: ['Katze', 'Bücher', 'gesprochen', 'Wissenschaft', 'Freundschaft', 'arbeiten', 'Häuser', 'größer', 'Entwicklung', 'verstehen']\n",
      "Stemmed words: ['katz', 'bücher', 'gesproch', 'wissenschaft', 'freundschaft', 'arbeit', 'häus', 'größer', 'entwicklung', 'versteh']\n"
     ]
    }
   ],
   "source": [
    "print(\"Original words:\", test_words)\n",
    "print(\"Stemmed words:\", stem_words_1)"
   ]
  },
  {
   "cell_type": "code",
   "execution_count": null,
   "id": "00dc4a10-bed5-49b0-9f73-c47afd2d5561",
   "metadata": {},
   "outputs": [],
   "source": [
    "''' GENERAL INTRO: What is a stemmer?\n",
    "Stemming is the process of reducing a word to its root form.\n",
    "Example: \"running\" → \"run\"\n",
    "\n",
    "Used in NLP for:\n",
    "\n",
    "Search engines\n",
    "\n",
    "Text classification\n",
    "\n",
    "Information retrieval\n",
    "\n",
    "🔹 PorterStemmer\n",
    "❓ Q1. What is PorterStemmer?\n",
    "A:\n",
    "PorterStemmer is one of the oldest and most commonly used English stemmers. It applies a set of rules and suffix-stripping techniques to reduce words to their stems.\n",
    "\n",
    "❓ Q2. What kind of stemming does Porter do?\n",
    "A:\n",
    "It uses a rule-based approach with predefined conditions and transformations. It's relatively conservative, so it avoids over-stemming in most cases.\n",
    "\n",
    "❓ Q3. Example of Porter stemming?\n",
    "A:\n",
    "\n",
    "python\n",
    "Copy\n",
    "Edit\n",
    "from nltk.stem import PorterStemmer\n",
    "stemmer = PorterStemmer()\n",
    "print(stemmer.stem(\"running\"))  # Output: run\n",
    "print(stemmer.stem(\"happiness\"))  # Output: happi\n",
    "🔸 LancasterStemmer\n",
    "❓ Q4. What is LancasterStemmer?\n",
    "A:\n",
    "The Lancaster Stemmer is a more aggressive stemmer compared to Porter. It may reduce words more harshly, sometimes leading to over-stemming.\n",
    "\n",
    "❓ Q5. How is Lancaster different from Porter?\n",
    "A:\n",
    "\n",
    "Lancaster: More aggressive, shorter stems, faster.\n",
    "\n",
    "Porter: More conservative, longer stems, more readable.\n",
    "\n",
    "❓ Q6. Example of Lancaster stemming?\n",
    "A:\n",
    "\n",
    "python\n",
    "Copy\n",
    "Edit\n",
    "from nltk.stem import LancasterStemmer\n",
    "stemmer = LancasterStemmer()\n",
    "print(stemmer.stem(\"running\"))   # Output: run\n",
    "print(stemmer.stem(\"happiness\")) # Output: happy\n",
    "print(stemmer.stem(\"maximum\"))   # Output: maxim\n",
    "🇩🇪 GermanStemmer\n",
    "❓ Q7. What is GermanStemmer?\n",
    "A:\n",
    "It's a language-specific stemmer for German text. It accounts for German grammar and morphology, unlike Porter or Lancaster which are for English.\n",
    "\n",
    "❓ Q8. Why do we need language-specific stemmers like GermanStemmer?\n",
    "A:\n",
    "Different languages have different rules for word formation and inflection. A stemmer designed for English won’t work well for German, which has compound words and different suffixes.\n",
    "\n",
    "❓ Q9. Example of German stemming?\n",
    "A:\n",
    "\n",
    "python\n",
    "Copy\n",
    "Edit\n",
    "from nltk.stem.snowball import GermanStemmer\n",
    "stemmer = GermanStemmer()\n",
    "print(stemmer.stem(\"liebe\"))      # Output: lieb\n",
    "print(stemmer.stem(\"freundlich\")) # Output: freundlich\n",
    "🆚 Comparison Question\n",
    "❓ Q10. Which stemmer would you use and when?\n",
    "A:\n",
    "\n",
    "Use PorterStemmer for general English tasks.\n",
    "\n",
    "Use LancasterStemmer if you want speed and don’t mind aggressive stemming.\n",
    "\n",
    "Use GermanStemmer when processing German-language text.\n",
    "\n",
    "'''"
   ]
  }
 ],
 "metadata": {
  "kernelspec": {
   "display_name": "Python 3 (ipykernel)",
   "language": "python",
   "name": "python3"
  },
  "language_info": {
   "codemirror_mode": {
    "name": "ipython",
    "version": 3
   },
   "file_extension": ".py",
   "mimetype": "text/x-python",
   "name": "python",
   "nbconvert_exporter": "python",
   "pygments_lexer": "ipython3",
   "version": "3.12.4"
  }
 },
 "nbformat": 4,
 "nbformat_minor": 5
}
